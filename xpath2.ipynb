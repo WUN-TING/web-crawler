{
 "cells": [
  {
   "cell_type": "code",
   "execution_count": 1,
   "metadata": {},
   "outputs": [
    {
     "name": "stderr",
     "output_type": "stream",
     "text": [
      "C:\\Users\\simpl\\AppData\\Local\\Temp/ipykernel_11448/3314454499.py:5: DeprecationWarning: executable_path has been deprecated, please pass in a Service object\n",
      "  driver=webdriver.Chrome(executable_path=chrome_driver_path)\n"
     ]
    }
   ],
   "source": [
    "from selenium import webdriver\n",
    "\n",
    "imdb_index_page=\"https://www.imdb.com/\"\n",
    "chrome_driver_path=\"C:\\\\Users\\\\simpl\\\\Desktop\\\\chromedriver_win32\\\\chromedriver.exe\"\n",
    "driver=webdriver.Chrome(executable_path=chrome_driver_path)\n",
    "driver.get(imdb_index_page)"
   ]
  },
  {
   "cell_type": "code",
   "execution_count": 5,
   "metadata": {},
   "outputs": [
    {
     "name": "stderr",
     "output_type": "stream",
     "text": [
      "C:\\Users\\simpl\\AppData\\Local\\Temp/ipykernel_11448/1556218835.py:3: DeprecationWarning: find_element_by_* commands are deprecated. Please use find_element() instead\n",
      "  elem=driver.find_element_by_xpath(search_xpath)\n"
     ]
    }
   ],
   "source": [
    "movie_title=\"La La Land\"\n",
    "search_xpath=\"//input[@id='suggestion-search']\"\n",
    "elem=driver.find_element_by_xpath(search_xpath)\n",
    "elem.send_keys(movie_title)"
   ]
  },
  {
   "cell_type": "code",
   "execution_count": 6,
   "metadata": {},
   "outputs": [
    {
     "name": "stderr",
     "output_type": "stream",
     "text": [
      "C:\\Users\\simpl\\AppData\\Local\\Temp/ipykernel_11448/114712714.py:2: DeprecationWarning: find_element_by_* commands are deprecated. Please use find_element() instead\n",
      "  elem=driver.find_element_by_xpath(submit_xpath)\n"
     ]
    }
   ],
   "source": [
    "submit_xpath=\"//button[@id='suggestion-search-button']\"\n",
    "elem=driver.find_element_by_xpath(submit_xpath)\n",
    "elem.click()"
   ]
  },
  {
   "cell_type": "code",
   "execution_count": 8,
   "metadata": {},
   "outputs": [
    {
     "name": "stderr",
     "output_type": "stream",
     "text": [
      "C:\\Users\\simpl\\AppData\\Local\\Temp/ipykernel_11448/3429580558.py:2: DeprecationWarning: find_element_by_* commands are deprecated. Please use find_element() instead\n",
      "  elem=driver.find_element_by_xpath(category_xpath)\n"
     ]
    }
   ],
   "source": [
    "movie_filter_xpath=\"//ul[@class='findTitleSubfilterList']/li[1]/a\"\n",
    "elem=driver.find_element_by_xpath(movie_filter_xpath)\n",
    "elem.click()"
   ]
  },
  {
   "cell_type": "code",
   "execution_count": 9,
   "metadata": {
    "scrolled": true
   },
   "outputs": [
    {
     "name": "stderr",
     "output_type": "stream",
     "text": [
      "C:\\Users\\simpl\\AppData\\Local\\Temp/ipykernel_11448/3369625643.py:2: DeprecationWarning: find_element_by_* commands are deprecated. Please use find_element() instead\n",
      "  elem=driver.find_element_by_xpath(first_title_xpath)\n"
     ]
    }
   ],
   "source": [
    "first_result_xpath=\"//div[@class='article']/div[@class='findSection'][1]/table[@class='findList']/tbody/tr[@class='findResult odd']/td[@class='result_text']/a\"\n",
    "elem=driver.find_element_by_xpath(first_result_xpath)\n",
    "elem.click()"
   ]
  },
  {
   "cell_type": "code",
   "execution_count": 10,
   "metadata": {},
   "outputs": [
    {
     "name": "stdout",
     "output_type": "stream",
     "text": [
      "8.0\n"
     ]
    },
    {
     "name": "stderr",
     "output_type": "stream",
     "text": [
      "C:\\Users\\simpl\\AppData\\Local\\Temp/ipykernel_11448/2291217266.py:3: DeprecationWarning: find_element_by_* commands are deprecated. Please use find_element() instead\n",
      "  elem=driver.find_element_by_xpath(rating_xpath)\n"
     ]
    }
   ],
   "source": [
    "#電影評等\n",
    "rating_xpath=\"//span[@class='AggregateRatingButton__RatingScore-sc-1ll29m0-1 iTLWoV']\"\n",
    "elem=driver.find_element_by_xpath(rating_xpath)\n",
    "rating=float(elem.text)\n",
    "print(rating)"
   ]
  },
  {
   "cell_type": "code",
   "execution_count": 11,
   "metadata": {},
   "outputs": [
    {
     "name": "stderr",
     "output_type": "stream",
     "text": [
      "C:\\Users\\simpl\\AppData\\Local\\Temp/ipykernel_11448/3693695255.py:3: DeprecationWarning: find_elements_by_* commands are deprecated. Please use find_elements() instead\n",
      "  elem=driver.find_elements_by_xpath(cast_xpath)\n"
     ]
    },
    {
     "name": "stdout",
     "output_type": "stream",
     "text": [
      "['Ryan Gosling', 'Emma Stone', 'Rosemarie DeWitt', 'J.K. Simmons', 'Amiee Conn', 'Terry Walters', 'Thom Shelton', 'Cinda Adams', 'Callie Hernandez', 'Jessica Rothe', 'Sonoya Mizuno', 'Claudine Claudio', 'Jason Fuchs', 'D.A. Wallach', 'Trevor Lissauer', 'Olivia Hamilton', 'Anna Chazelle', 'Marius De Vries']\n"
     ]
    }
   ],
   "source": [
    "#卡司陣容\n",
    "cast_xpath=\"//a[@class='StyledComponents__ActorName-y9ygcu-1 eyqFnv']\"\n",
    "elem=driver.find_elements_by_xpath(cast_xpath)\n",
    "cast=[e.text for e in elem]\n",
    "print(cast)"
   ]
  },
  {
   "cell_type": "code",
   "execution_count": 14,
   "metadata": {
    "scrolled": true
   },
   "outputs": [
    {
     "name": "stdout",
     "output_type": "stream",
     "text": [
      "['喜劇片', '劇情片', '音樂片']\n"
     ]
    },
    {
     "name": "stderr",
     "output_type": "stream",
     "text": [
      "C:\\Users\\simpl\\AppData\\Local\\Temp/ipykernel_11448/1314983464.py:3: DeprecationWarning: find_elements_by_* commands are deprecated. Please use find_elements() instead\n",
      "  elem=driver.find_elements_by_xpath(genre_xpath)\n"
     ]
    }
   ],
   "source": [
    "#劇情類型\n",
    "genre_xpath=\"//a[@class='GenresAndPlot__GenreChip-cum89p-3 fzmeux ipc-chip ipc-chip--on-baseAlt']\"\n",
    "elem=driver.find_elements_by_xpath(genre_xpath)\n",
    "genre=[e.text for e in elem]\n",
    "print(genre)"
   ]
  },
  {
   "cell_type": "code",
   "execution_count": 15,
   "metadata": {},
   "outputs": [],
   "source": [
    "driver.close()"
   ]
  },
  {
   "cell_type": "markdown",
   "metadata": {},
   "source": [
    "寫成函式"
   ]
  },
  {
   "cell_type": "code",
   "execution_count": 83,
   "metadata": {
    "scrolled": false
   },
   "outputs": [],
   "source": [
    "from selenium import webdriver\n",
    "\n",
    "def get_movie_info(movie_title):\n",
    "\n",
    "    \n",
    "    #宣告 xpath\n",
    "    imdb_index_page=\"https://www.imdb.com/\"\n",
    "    chrome_driver_path=\"C:\\\\Users\\\\simpl\\\\Desktop\\\\chromedriver_win32\\\\chromedriver.exe\"\n",
    "    search_xpath=\"//input[@id='suggestion-search']\"\n",
    "    submit_xpath=\"//button[@id='suggestion-search-button']\"\n",
    "    movie_filter_xpath=\"//ul[@class='findTitleSubfilterList']/li[1]/a\"\n",
    "    first_result_xpath=\"//tbody/tr[@class='findResult odd'][1]/td[@class='result_text']/a\"\n",
    "    rating_xpath=\"//span[@class='AggregateRatingButton__RatingScore-sc-1ll29m0-1 iTLWoV']\"\n",
    "    cast_xpath=\"//a[@class='StyledComponents__ActorName-y9ygcu-1 eyqFnv']\"\n",
    "    genre_xpath=\"//a[@class='GenresAndPlot__GenreChip-cum89p-3 fzmeux ipc-chip ipc-chip--on-baseAlt']\"\n",
    "\n",
    "    # web scraping\n",
    "    driver=webdriver.Chrome(executable_path=chrome_driver_path)\n",
    "    driver.get(imdb_index_page)\n",
    "    elem=driver.find_element_by_xpath(search_xpath)\n",
    "    elem.send_keys(movie_title)\n",
    "    elem=driver.find_element_by_xpath(submit_xpath)\n",
    "    elem.click()\n",
    "    elem=driver.find_element_by_xpath(movie_filter_xpath)\n",
    "    elem.click()\n",
    "    elem=driver.find_element_by_xpath(first_result_xpath)\n",
    "    elem.click()\n",
    "    elem=driver.find_element_by_xpath(rating_xpath)\n",
    "    rating=float(elem.text)\n",
    "    elem=driver.find_elements_by_xpath(cast_xpath)\n",
    "    cast=[e.text for e in elem]\n",
    "    elem=driver.find_elements_by_xpath(genre_xpath)\n",
    "    genre=[e.text for e in elem]\n",
    "    print(rating)\n",
    "    print(cast)\n",
    "    print(genre)\n",
    "    driver.close()\n",
    "    movie_info = {\n",
    "        \"rating\":rating,\n",
    "        \"cast\":cast,\n",
    "        \"genre\":genre\n",
    "    }\n",
    "    print(movie_info)\n",
    "    return movie_info\n"
   ]
  },
  {
   "cell_type": "code",
   "execution_count": 86,
   "metadata": {},
   "outputs": [
    {
     "name": "stderr",
     "output_type": "stream",
     "text": [
      "C:\\Users\\simpl\\AppData\\Local\\Temp/ipykernel_11448/2103846953.py:18: DeprecationWarning: executable_path has been deprecated, please pass in a Service object\n",
      "  driver=webdriver.Chrome(executable_path=chrome_driver_path)\n",
      "C:\\Users\\simpl\\AppData\\Local\\Temp/ipykernel_11448/2103846953.py:20: DeprecationWarning: find_element_by_* commands are deprecated. Please use find_element() instead\n",
      "  elem=driver.find_element_by_xpath(search_xpath)\n",
      "C:\\Users\\simpl\\AppData\\Local\\Temp/ipykernel_11448/2103846953.py:22: DeprecationWarning: find_element_by_* commands are deprecated. Please use find_element() instead\n",
      "  elem=driver.find_element_by_xpath(submit_xpath)\n",
      "C:\\Users\\simpl\\AppData\\Local\\Temp/ipykernel_11448/2103846953.py:24: DeprecationWarning: find_element_by_* commands are deprecated. Please use find_element() instead\n",
      "  elem=driver.find_element_by_xpath(movie_filter_xpath)\n",
      "C:\\Users\\simpl\\AppData\\Local\\Temp/ipykernel_11448/2103846953.py:26: DeprecationWarning: find_element_by_* commands are deprecated. Please use find_element() instead\n",
      "  elem=driver.find_element_by_xpath(first_result_xpath)\n",
      "C:\\Users\\simpl\\AppData\\Local\\Temp/ipykernel_11448/2103846953.py:28: DeprecationWarning: find_element_by_* commands are deprecated. Please use find_element() instead\n",
      "  elem=driver.find_element_by_xpath(rating_xpath)\n",
      "C:\\Users\\simpl\\AppData\\Local\\Temp/ipykernel_11448/2103846953.py:30: DeprecationWarning: find_elements_by_* commands are deprecated. Please use find_elements() instead\n",
      "  elem=driver.find_elements_by_xpath(cast_xpath)\n",
      "C:\\Users\\simpl\\AppData\\Local\\Temp/ipykernel_11448/2103846953.py:32: DeprecationWarning: find_elements_by_* commands are deprecated. Please use find_elements() instead\n",
      "  elem=driver.find_elements_by_xpath(genre_xpath)\n"
     ]
    },
    {
     "name": "stdout",
     "output_type": "stream",
     "text": [
      "6.9\n",
      "['Gemma Chan', 'Richard Madden', 'Angelina Jolie', 'Salma Hayek', 'Kit Harington', 'Kumail Nanjiani', 'Lia McHugh', 'Brian Tyree Henry', 'Lauren Ridloff', 'Barry Keoghan', 'Ma Dong-seok', 'Harish Patel', 'Bill Skarsgård', 'Haaz Sleiman', 'Esai Daniel Cross', 'Harry Styles', 'Alan Scott', 'Hannah Dodd']\n",
      "['Action', 'Adventure', 'Fantasy']\n",
      "{'rating': 6.9, 'cast': ['Gemma Chan', 'Richard Madden', 'Angelina Jolie', 'Salma Hayek', 'Kit Harington', 'Kumail Nanjiani', 'Lia McHugh', 'Brian Tyree Henry', 'Lauren Ridloff', 'Barry Keoghan', 'Ma Dong-seok', 'Harish Patel', 'Bill Skarsgård', 'Haaz Sleiman', 'Esai Daniel Cross', 'Harry Styles', 'Alan Scott', 'Hannah Dodd'], 'genre': ['Action', 'Adventure', 'Fantasy']}\n"
     ]
    },
    {
     "data": {
      "text/plain": [
       "{'rating': 6.9,\n",
       " 'cast': ['Gemma Chan',\n",
       "  'Richard Madden',\n",
       "  'Angelina Jolie',\n",
       "  'Salma Hayek',\n",
       "  'Kit Harington',\n",
       "  'Kumail Nanjiani',\n",
       "  'Lia McHugh',\n",
       "  'Brian Tyree Henry',\n",
       "  'Lauren Ridloff',\n",
       "  'Barry Keoghan',\n",
       "  'Ma Dong-seok',\n",
       "  'Harish Patel',\n",
       "  'Bill Skarsgård',\n",
       "  'Haaz Sleiman',\n",
       "  'Esai Daniel Cross',\n",
       "  'Harry Styles',\n",
       "  'Alan Scott',\n",
       "  'Hannah Dodd'],\n",
       " 'genre': ['Action', 'Adventure', 'Fantasy']}"
      ]
     },
     "execution_count": 86,
     "metadata": {},
     "output_type": "execute_result"
    }
   ],
   "source": [
    "get_movie_info(\"Eternals\")"
   ]
  },
  {
   "cell_type": "code",
   "execution_count": 88,
   "metadata": {},
   "outputs": [
    {
     "name": "stderr",
     "output_type": "stream",
     "text": [
      "C:\\Users\\simpl\\AppData\\Local\\Temp/ipykernel_11448/2103846953.py:18: DeprecationWarning: executable_path has been deprecated, please pass in a Service object\n",
      "  driver=webdriver.Chrome(executable_path=chrome_driver_path)\n",
      "C:\\Users\\simpl\\AppData\\Local\\Temp/ipykernel_11448/2103846953.py:20: DeprecationWarning: find_element_by_* commands are deprecated. Please use find_element() instead\n",
      "  elem=driver.find_element_by_xpath(search_xpath)\n",
      "C:\\Users\\simpl\\AppData\\Local\\Temp/ipykernel_11448/2103846953.py:22: DeprecationWarning: find_element_by_* commands are deprecated. Please use find_element() instead\n",
      "  elem=driver.find_element_by_xpath(submit_xpath)\n",
      "C:\\Users\\simpl\\AppData\\Local\\Temp/ipykernel_11448/2103846953.py:24: DeprecationWarning: find_element_by_* commands are deprecated. Please use find_element() instead\n",
      "  elem=driver.find_element_by_xpath(movie_filter_xpath)\n",
      "C:\\Users\\simpl\\AppData\\Local\\Temp/ipykernel_11448/2103846953.py:26: DeprecationWarning: find_element_by_* commands are deprecated. Please use find_element() instead\n",
      "  elem=driver.find_element_by_xpath(first_result_xpath)\n",
      "C:\\Users\\simpl\\AppData\\Local\\Temp/ipykernel_11448/2103846953.py:28: DeprecationWarning: find_element_by_* commands are deprecated. Please use find_element() instead\n",
      "  elem=driver.find_element_by_xpath(rating_xpath)\n",
      "C:\\Users\\simpl\\AppData\\Local\\Temp/ipykernel_11448/2103846953.py:30: DeprecationWarning: find_elements_by_* commands are deprecated. Please use find_elements() instead\n",
      "  elem=driver.find_elements_by_xpath(cast_xpath)\n",
      "C:\\Users\\simpl\\AppData\\Local\\Temp/ipykernel_11448/2103846953.py:32: DeprecationWarning: find_elements_by_* commands are deprecated. Please use find_elements() instead\n",
      "  elem=driver.find_elements_by_xpath(genre_xpath)\n"
     ]
    },
    {
     "name": "stdout",
     "output_type": "stream",
     "text": [
      "6.9\n",
      "['Gemma Chan', 'Richard Madden', 'Angelina Jolie', 'Salma Hayek', 'Kit Harington', 'Kumail Nanjiani', 'Lia McHugh', 'Brian Tyree Henry', 'Lauren Ridloff', 'Barry Keoghan', 'Ma Dong-seok', 'Harish Patel', 'Bill Skarsgård', 'Haaz Sleiman', 'Esai Daniel Cross', 'Harry Styles', 'Alan Scott', 'Hannah Dodd']\n",
      "['Action', 'Adventure', 'Fantasy']\n",
      "{'rating': 6.9, 'cast': ['Gemma Chan', 'Richard Madden', 'Angelina Jolie', 'Salma Hayek', 'Kit Harington', 'Kumail Nanjiani', 'Lia McHugh', 'Brian Tyree Henry', 'Lauren Ridloff', 'Barry Keoghan', 'Ma Dong-seok', 'Harish Patel', 'Bill Skarsgård', 'Haaz Sleiman', 'Esai Daniel Cross', 'Harry Styles', 'Alan Scott', 'Hannah Dodd'], 'genre': ['Action', 'Adventure', 'Fantasy']}\n",
      "8.0\n",
      "['Ryan Gosling', 'Emma Stone', 'Rosemarie DeWitt', 'J.K. Simmons', 'Amiee Conn', 'Terry Walters', 'Thom Shelton', 'Cinda Adams', 'Callie Hernandez', 'Jessica Rothe', 'Sonoya Mizuno', 'Claudine Claudio', 'Jason Fuchs', 'D.A. Wallach', 'Trevor Lissauer', 'Olivia Hamilton', 'Anna Chazelle', 'Marius De Vries']\n",
      "['Comedy', 'Drama', 'Music']\n",
      "{'rating': 8.0, 'cast': ['Ryan Gosling', 'Emma Stone', 'Rosemarie DeWitt', 'J.K. Simmons', 'Amiee Conn', 'Terry Walters', 'Thom Shelton', 'Cinda Adams', 'Callie Hernandez', 'Jessica Rothe', 'Sonoya Mizuno', 'Claudine Claudio', 'Jason Fuchs', 'D.A. Wallach', 'Trevor Lissauer', 'Olivia Hamilton', 'Anna Chazelle', 'Marius De Vries'], 'genre': ['Comedy', 'Drama', 'Music']}\n",
      "7.5\n",
      "['Daniel Craig', 'Ana de Armas', 'Rami Malek', 'Léa Seydoux', 'Lashana Lynch', 'Ralph Fiennes', 'Ben Whishaw', 'Naomie Harris', 'Rory Kinnear', 'Jeffrey Wright', 'Billy Magnussen', 'Christoph Waltz', 'David Dencik', 'Dali Benssalah', 'Lisa-Dorah Sonnet', 'Coline Defaud', 'Mathilde Bourbin', 'Hugh Dennis']\n",
      "['Action', 'Adventure', 'Thriller']\n",
      "{'rating': 7.5, 'cast': ['Daniel Craig', 'Ana de Armas', 'Rami Malek', 'Léa Seydoux', 'Lashana Lynch', 'Ralph Fiennes', 'Ben Whishaw', 'Naomie Harris', 'Rory Kinnear', 'Jeffrey Wright', 'Billy Magnussen', 'Christoph Waltz', 'David Dencik', 'Dali Benssalah', 'Lisa-Dorah Sonnet', 'Coline Defaud', 'Mathilde Bourbin', 'Hugh Dennis'], 'genre': ['Action', 'Adventure', 'Thriller']}\n"
     ]
    }
   ],
   "source": [
    "import time\n",
    "from random import randint\n",
    "\n",
    "movie_titles=[\"Eternals\",\"La La Land\",\"No Time to Die\"]\n",
    "movie_dict={}\n",
    "for mt in movie_titles:\n",
    "    movie_dict[mt]=get_movie_info(mt)\n",
    "    sleep_sec= randint(3,11)\n",
    "    time.sleep(sleep_sec)"
   ]
  },
  {
   "cell_type": "code",
   "execution_count": 89,
   "metadata": {},
   "outputs": [
    {
     "data": {
      "text/plain": [
       "{'rating': 6.9,\n",
       " 'cast': ['Gemma Chan',\n",
       "  'Richard Madden',\n",
       "  'Angelina Jolie',\n",
       "  'Salma Hayek',\n",
       "  'Kit Harington',\n",
       "  'Kumail Nanjiani',\n",
       "  'Lia McHugh',\n",
       "  'Brian Tyree Henry',\n",
       "  'Lauren Ridloff',\n",
       "  'Barry Keoghan',\n",
       "  'Ma Dong-seok',\n",
       "  'Harish Patel',\n",
       "  'Bill Skarsgård',\n",
       "  'Haaz Sleiman',\n",
       "  'Esai Daniel Cross',\n",
       "  'Harry Styles',\n",
       "  'Alan Scott',\n",
       "  'Hannah Dodd'],\n",
       " 'genre': ['Action', 'Adventure', 'Fantasy']}"
      ]
     },
     "execution_count": 89,
     "metadata": {},
     "output_type": "execute_result"
    }
   ],
   "source": [
    "movie_dict[\"Eternals\"]"
   ]
  },
  {
   "cell_type": "code",
   "execution_count": 90,
   "metadata": {},
   "outputs": [
    {
     "data": {
      "text/plain": [
       "{'rating': 8.0,\n",
       " 'cast': ['Ryan Gosling',\n",
       "  'Emma Stone',\n",
       "  'Rosemarie DeWitt',\n",
       "  'J.K. Simmons',\n",
       "  'Amiee Conn',\n",
       "  'Terry Walters',\n",
       "  'Thom Shelton',\n",
       "  'Cinda Adams',\n",
       "  'Callie Hernandez',\n",
       "  'Jessica Rothe',\n",
       "  'Sonoya Mizuno',\n",
       "  'Claudine Claudio',\n",
       "  'Jason Fuchs',\n",
       "  'D.A. Wallach',\n",
       "  'Trevor Lissauer',\n",
       "  'Olivia Hamilton',\n",
       "  'Anna Chazelle',\n",
       "  'Marius De Vries'],\n",
       " 'genre': ['Comedy', 'Drama', 'Music']}"
      ]
     },
     "execution_count": 90,
     "metadata": {},
     "output_type": "execute_result"
    }
   ],
   "source": [
    "movie_dict[\"La La Land\"]"
   ]
  },
  {
   "cell_type": "code",
   "execution_count": 91,
   "metadata": {},
   "outputs": [
    {
     "data": {
      "text/plain": [
       "{'rating': 7.5,\n",
       " 'cast': ['Daniel Craig',\n",
       "  'Ana de Armas',\n",
       "  'Rami Malek',\n",
       "  'Léa Seydoux',\n",
       "  'Lashana Lynch',\n",
       "  'Ralph Fiennes',\n",
       "  'Ben Whishaw',\n",
       "  'Naomie Harris',\n",
       "  'Rory Kinnear',\n",
       "  'Jeffrey Wright',\n",
       "  'Billy Magnussen',\n",
       "  'Christoph Waltz',\n",
       "  'David Dencik',\n",
       "  'Dali Benssalah',\n",
       "  'Lisa-Dorah Sonnet',\n",
       "  'Coline Defaud',\n",
       "  'Mathilde Bourbin',\n",
       "  'Hugh Dennis'],\n",
       " 'genre': ['Action', 'Adventure', 'Thriller']}"
      ]
     },
     "execution_count": 91,
     "metadata": {},
     "output_type": "execute_result"
    }
   ],
   "source": [
    "movie_dict[\"No Time to Die\"]"
   ]
  },
  {
   "cell_type": "code",
   "execution_count": null,
   "metadata": {},
   "outputs": [],
   "source": []
  }
 ],
 "metadata": {
  "kernelspec": {
   "display_name": "selenium",
   "language": "python",
   "name": "selenium"
  },
  "language_info": {
   "codemirror_mode": {
    "name": "ipython",
    "version": 3
   },
   "file_extension": ".py",
   "mimetype": "text/x-python",
   "name": "python",
   "nbconvert_exporter": "python",
   "pygments_lexer": "ipython3",
   "version": "3.10.0"
  }
 },
 "nbformat": 4,
 "nbformat_minor": 4
}
