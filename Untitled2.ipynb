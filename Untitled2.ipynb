{
 "cells": [
  {
   "cell_type": "code",
   "execution_count": 69,
   "id": "0435d3a1",
   "metadata": {},
   "outputs": [
    {
     "name": "stderr",
     "output_type": "stream",
     "text": [
      "C:\\Users\\alish\\AppData\\Local\\Temp/ipykernel_3292/4242979624.py:3: DeprecationWarning: executable_path has been deprecated, please pass in a Service object\n",
      "  driver=webdriver.Chrome(executable_path=chrome_driver_path)\n"
     ]
    }
   ],
   "source": [
    "from selenium import webdriver \n",
    "chrome_driver_path =\"C:\\\\Users\\\\alish\\\\Desktop\\\\程式\\\\pythonR\\\\chromedriver\"\n",
    "driver=webdriver.Chrome(executable_path=chrome_driver_path)\n",
    "\n"
   ]
  },
  {
   "cell_type": "code",
   "execution_count": 71,
   "id": "ae76cc6e",
   "metadata": {},
   "outputs": [
    {
     "name": "stdout",
     "output_type": "stream",
     "text": [
      "8.0\n"
     ]
    },
    {
     "name": "stderr",
     "output_type": "stream",
     "text": [
      "C:\\Users\\alish\\AppData\\Local\\Temp/ipykernel_3292/2472294545.py:4: DeprecationWarning: find_element_by_* commands are deprecated. Please use find_element() instead\n",
      "  elem=driver.find_element_by_css_selector(rating_css)\n"
     ]
    }
   ],
   "source": [
    "rating_url=\"https://www.imdb.com/title/tt3783958/ratings/?ref_=tt_ov_rt\"\n",
    "rating_css=\".ipl-rating-star__rating\"\n",
    "driver.get(rating_url)\n",
    "elem=driver.find_element_by_css_selector(rating_css)\n",
    "rating=float(elem.text)\n",
    "print(rating)"
   ]
  },
  {
   "cell_type": "code",
   "execution_count": 70,
   "id": "2daf9fb9",
   "metadata": {},
   "outputs": [
    {
     "name": "stderr",
     "output_type": "stream",
     "text": [
      "C:\\Users\\alish\\AppData\\Local\\Temp/ipykernel_3292/3452524090.py:4: DeprecationWarning: find_elements_by_* commands are deprecated. Please use find_elements() instead\n",
      "  elem=driver.find_elements_by_css_selector(cast_css)\n"
     ]
    },
    {
     "name": "stdout",
     "output_type": "stream",
     "text": [
      "['Ryan Gosling', 'Emma Stone', 'Amiee Conn', 'Terry Walters', 'Thom Shelton', 'Cinda Adams', 'Callie Hernandez', 'Jessica Rothe', 'Sonoya Mizuno', 'Rosemarie DeWitt', 'J.K. Simmons', 'Claudine Claudio', 'Jason Fuchs', 'D.A. Wallach', 'Trevor Lissauer', 'Olivia Hamilton', 'Anna Chazelle', 'Marius De Vries', 'Finn Wittrock', 'Josh Pence', 'Nicole Coulon', 'Damon Gupton', 'John Legend', 'Christopher Michael Stevens', 'Keith Harris', 'Kaveh Rastegar', 'Shaylah J. Stevens', 'Natalie Imani', 'Briana Lee', 'David Douglas', 'Miles Anderson', 'Bobo Chang', 'Meagen Fay', 'Robert Haynes', 'John Hindman', 'Valarie Rae Miller', 'Nicole Wolf', 'Corrin Evans', 'Kiff VandenHeuvel', 'Tom Everett Scott', 'Camryn Ray Cavaliero', 'Zoë Hall', 'Dempsey Pappion', \"Clifton 'Fou Fou' Eddie\", 'Cal Bennett', 'Nedra Wheeler', 'Javier Gonzalez', 'Khirye Tyler', 'Arthur Horowitz', 'Reshma Gajjar', 'Hunter Hamilton', 'Damian Gomez', 'Candice Coke', 'Amanda Balen', 'Mecca Vazie Andrews', 'Lou Becker', 'Doran Butler', 'Matt Cady', 'Dominic Chaiduang', 'Cindera Che', 'Carol Connors', 'Patrick Cook', 'Aaron Cooke', 'Tiffany Daniels', 'Bubba Dean Rambo', 'Nick Drago', 'Shaun Evaristo', 'Dana Fukagawa', 'Daniel Gaymon', 'Liz Imperio', 'Casey Johansen', 'Cris Judd', 'Yoori Kim', 'Marissa Labog', 'Stephanie Landwehr', 'Chris Moss', 'Clarice Ordaz', 'Nathan Prevost', 'Bradley M. Rapier', 'Britt Stewart', 'Melinda Sullivan', 'Dana Wilson', 'Terrance Yates', 'Tracy Shibata', 'Dominique Domingo', 'Asiel Hardison', 'Corey Anderson', 'Nick Baga', 'Scott Hislop', 'Leah Adler', 'Noel Bajandas', 'Khasan Brailsford', 'Denzel Chisolm', 'Montana Efaw', 'Krystal Ellsworth', 'Natalie Gilmore', 'Shannon Holtzapffel', 'Galen Hooks', 'Jeremy Hudson', 'Morgan Larson', 'George Lawrence Jr.', 'Sarah Mitchell', 'Kc Monnie', 'Scott Myrick', 'Cassidy Noblett', 'Brittany Parks', 'Victor Rojas', 'Tony Bellissimo', 'Ryan Ramirez', 'Catalina Rendic', 'Bryan Tanaka', 'Ava Bernstine', 'Mario Diaz', 'Quinn Lipton', 'Gakenia Muigai', 'Michael Stein', 'Becca Sweitzer', 'Samantha Abrantes', 'Monie Adamson', 'Matthew Aylward', 'McKenzie Anderson', 'Sybil Azur', 'Demian Boergadine', 'Pamela Chu', 'Lexie Contursi', 'Mallauri Esquibel', 'Michael Higgins', 'Tara Nicole Hughes', 'Chris Jarosz', 'Kayla Kalbfleisch', 'Matthew Kazmierczak', 'Paul Kirkland', 'Megan Lawson', 'Anthony Marciona', 'Michael Munday', 'Martha Nichols', 'Ryan Novak', \"Brandon O'Neal\", 'Bill Prudich', 'Eartha Robinson', 'Robert Roldan', 'Julie Schmid', 'Chelsea Thedinga', 'Danny Valle', 'Gustavo Vargas', 'Emily Williams', 'Christopher Aber', 'Kellie Aiken', 'Drew Bayers', 'Kayla Bechor', 'Melvin LaThomas Brimm', 'Cameron Brinkman', 'Alex Budman', 'Reece Chadwick', 'Lisa Chamberlain', 'Hunter Clowdus', 'Morgan Cohen', 'Tommy Cooley', 'Jenna Curtis', 'Bruce Davison', 'Vince Donvito', 'Brandi Erin Douglas', 'Gina Dunlap', 'Steffen Dziczek', 'Kristin Elliott', 'Amanda Fields', 'Jordan Ray Fox', 'Erick Galindo', 'Susie Ganiere', 'Ana Flavia Gavlak', 'Sascha Ghafoor', 'Milica Govich', 'Sai Gundewar', 'Destinee Handly', 'Darrell Keith Harris', 'Courtney Hart', 'Matthew Herington', 'Holly Houk', 'Jesse Houk', 'Noah James', 'Frederick Keeve', 'Kelly Kennedy', 'Trent Kerpsack', 'David Kieran', 'Stanley Kowalski', 'Suzanne LaChasse', 'Andrea Lareo', 'Shannon Leann', 'Jacques Lesure', 'Bunny Levine', 'Elaine Lockhart', 'Jason Luckett', 'Monique Marissa Lukens', 'Anna Lunberry', 'Hemky Madera', 'Jillian Meyers', 'Arnold Montey', 'Lynn Moore', 'Kaye L. Morris', 'Margaret Newborn', 'Crystal Nichol', \"James O'Connor\", 'Tommy Otis', 'Andres Perez-Molina', 'Molly Ritter', 'Clarence Robinson', 'Paul Mitchell Rosenblum', 'Sandra Rosko', 'Jessica Rotter', 'Haley Schwalbe', 'Caleb Sherrill', 'Kristin Slaysman', 'Cassandra Starr', 'Sam Stone', 'C.J. Stussi', 'Ottavio Taddei', 'Jeremy Nathan Tisser', 'Patty Tobin', 'Dapo Torimiro', 'Nadia Tumanova', 'Heather Turman', 'Phillip E. Walker', 'Nilla Elizabeth Watkins', 'Bijon Watson', 'Ian Wolfe']\n"
     ]
    }
   ],
   "source": [
    "cast_url=\"https://www.imdb.com/title/tt3783958/fullcredits?ref_=tt_cl_sm\"\n",
    "cast_css=\".primary_photo+ td a\"\n",
    "driver.get(cast_url)\n",
    "elem=driver.find_elements_by_css_selector(cast_css)\n",
    "cast=[e.text for e in elem]\n",
    "print(cast)"
   ]
  },
  {
   "cell_type": "code",
   "execution_count": 73,
   "id": "ff93d8ec",
   "metadata": {},
   "outputs": [
    {
     "name": "stderr",
     "output_type": "stream",
     "text": [
      "C:\\Users\\alish\\AppData\\Local\\Temp/ipykernel_3292/3460481032.py:5: DeprecationWarning: find_elements_by_* commands are deprecated. Please use find_elements() instead\n",
      "  elem=driver.find_elements_by_css_selector(genre_css)\n"
     ]
    },
    {
     "name": "stdout",
     "output_type": "stream",
     "text": [
      "['Comedy', 'Drama', 'Music', 'musician', 'los angeles california', 'actress', 'pianist', 'aspiring actress', '268 more']\n"
     ]
    }
   ],
   "source": [
    "#class=\"ipc-chip__text\"\n",
    "genre_url=\"https://www.imdb.com/title/tt3783958/?ref_=fn_al_tt_1\"\n",
    "genre_css=\".ipc-chip__text\"\n",
    "driver.get(genre_url)\n",
    "elem=driver.find_elements_by_css_selector(genre_css)\n",
    "genre=[e.text for e in elem]\n",
    "print(genre)"
   ]
  }
 ],
 "metadata": {
  "kernelspec": {
   "display_name": "Python 3 (ipykernel)",
   "language": "python",
   "name": "python3"
  },
  "language_info": {
   "codemirror_mode": {
    "name": "ipython",
    "version": 3
   },
   "file_extension": ".py",
   "mimetype": "text/x-python",
   "name": "python",
   "nbconvert_exporter": "python",
   "pygments_lexer": "ipython3",
   "version": "3.8.12"
  }
 },
 "nbformat": 4,
 "nbformat_minor": 5
}
