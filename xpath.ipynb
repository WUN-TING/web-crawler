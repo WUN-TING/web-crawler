{
 "cells": [
  {
   "cell_type": "markdown",
   "metadata": {},
   "source": [
    " selenium 與 IMDB"
   ]
  },
  {
   "cell_type": "code",
   "execution_count": null,
   "metadata": {},
   "outputs": [],
   "source": [
    "from selenium import webdriver\n",
    "chrome_driver_path=\"C:\\\\Users\\\\simpl\\\\Desktop\\\\chromedriver_win32\\\\chromedriver.exe\"\n",
    "driver=webdriver.Chrome(executable_path=chrome_driver_path)"
   ]
  },
  {
   "cell_type": "code",
   "execution_count": 12,
   "metadata": {},
   "outputs": [],
   "source": [
    "movie_url=\"https://www.imdb.com/title/tt3783958/?ref_=fn_al_tt_1\"\n",
    "driver.get(movie_url)"
   ]
  },
  {
   "cell_type": "code",
   "execution_count": 27,
   "metadata": {},
   "outputs": [
    {
     "name": "stdout",
     "output_type": "stream",
     "text": [
      "8.0\n"
     ]
    },
    {
     "name": "stderr",
     "output_type": "stream",
     "text": [
      "C:\\Users\\simpl\\AppData\\Local\\Temp/ipykernel_3548/2291217266.py:3: DeprecationWarning: find_element_by_* commands are deprecated. Please use find_element() instead\n",
      "  elem=driver.find_element_by_xpath(rating_xpath)\n"
     ]
    }
   ],
   "source": [
    "#電影評等\n",
    "rating_xpath=\"//span[@class='AggregateRatingButton__RatingScore-sc-1ll29m0-1 iTLWoV']\"\n",
    "elem=driver.find_element_by_xpath(rating_xpath)\n",
    "rating=float(elem.text)\n",
    "print(rating)"
   ]
  },
  {
   "cell_type": "code",
   "execution_count": 21,
   "metadata": {},
   "outputs": [
    {
     "name": "stderr",
     "output_type": "stream",
     "text": [
      "C:\\Users\\simpl\\AppData\\Local\\Temp/ipykernel_3548/4180913752.py:2: DeprecationWarning: find_elements_by_* commands are deprecated. Please use find_elements() instead\n",
      "  elem=driver.find_elements_by_xpath(cast_xpath)\n"
     ]
    },
    {
     "name": "stdout",
     "output_type": "stream",
     "text": [
      "['Ryan Gosling', 'Emma Stone', 'Rosemarie DeWitt', 'J.K. Simmons', 'Amiee Conn', 'Terry Walters', 'Thom Shelton', 'Cinda Adams', 'Callie Hernandez', 'Jessica Rothe', 'Sonoya Mizuno', 'Claudine Claudio', 'Jason Fuchs', 'D.A. Wallach', 'Trevor Lissauer', 'Olivia Hamilton', 'Anna Chazelle', 'Marius De Vries']\n"
     ]
    }
   ],
   "source": [
    "#演員名單\n",
    "cast_xpath=\"//a[@class='StyledComponents__ActorName-y9ygcu-1 eyqFnv']\"\n",
    "elem=driver.find_elements_by_xpath(cast_xpath)\n",
    "cast=[e.text for e in elem]\n",
    "print(cast)"
   ]
  },
  {
   "cell_type": "code",
   "execution_count": 25,
   "metadata": {},
   "outputs": [
    {
     "name": "stdout",
     "output_type": "stream",
     "text": [
      "['Comedy', 'Drama', 'Music']\n"
     ]
    },
    {
     "name": "stderr",
     "output_type": "stream",
     "text": [
      "C:\\Users\\simpl\\AppData\\Local\\Temp/ipykernel_3548/1314983464.py:3: DeprecationWarning: find_elements_by_* commands are deprecated. Please use find_elements() instead\n",
      "  elem=driver.find_elements_by_xpath(genre_xpath)\n"
     ]
    }
   ],
   "source": [
    "#劇情類型\n",
    "genre_xpath=\"//a[@class='GenresAndPlot__GenreChip-cum89p-3 fzmeux ipc-chip ipc-chip--on-baseAlt']\"\n",
    "elem=driver.find_elements_by_xpath(genre_xpath)\n",
    "genre=[e.text for e in elem]\n",
    "print(genre)"
   ]
  },
  {
   "cell_type": "code",
   "execution_count": 28,
   "metadata": {},
   "outputs": [],
   "source": [
    "driver.close()"
   ]
  },
  {
   "cell_type": "markdown",
   "metadata": {},
   "source": [
    "selenium 與 Yahoo! 奇摩股市"
   ]
  },
  {
   "cell_type": "code",
   "execution_count": 57,
   "metadata": {},
   "outputs": [
    {
     "name": "stderr",
     "output_type": "stream",
     "text": [
      "C:\\Users\\simpl\\AppData\\Local\\Temp/ipykernel_3548/2508162195.py:3: DeprecationWarning: executable_path has been deprecated, please pass in a Service object\n",
      "  driver= webdriver.Chrome(executable_path=chrome_driver_path)\n"
     ]
    }
   ],
   "source": [
    "from selenium import webdriver\n",
    "chrome_driver_path=\"C:\\\\Users\\\\simpl\\\\Desktop\\\\chromedriver_win32\\\\chromedriver.exe\"\n",
    "driver= webdriver.Chrome(executable_path=chrome_driver_path)"
   ]
  },
  {
   "cell_type": "code",
   "execution_count": 58,
   "metadata": {},
   "outputs": [],
   "source": [
    "stock_url=\"https://tw.stock.yahoo.com/rank/price?exchange=TAI\"\n",
    "driver.get(stock_url)"
   ]
  },
  {
   "cell_type": "code",
   "execution_count": 32,
   "metadata": {},
   "outputs": [
    {
     "name": "stderr",
     "output_type": "stream",
     "text": [
      "C:\\Users\\simpl\\AppData\\Local\\Temp/ipykernel_3548/3517604857.py:2: DeprecationWarning: find_elements_by_* commands are deprecated. Please use find_elements() instead\n",
      "  elem=driver.find_elements_by_xpath(stock_xpath)\n"
     ]
    },
    {
     "name": "stdout",
     "output_type": "stream",
     "text": [
      "['1\\n矽力-KY\\n6415.TW', '2\\n大立光\\n3008.TW', '3\\n祥碩\\n5269.TW', '4\\n旭隼\\n6409.TW', '5\\n富邦媒\\n8454.TW', '6\\nAES-KY\\n6781.TW', '7\\n世芯-KY\\n3661.TW', '8\\n聯發科\\n2454.TW', '9\\n緯穎\\n6669.TW', '10\\n亞德客-KY\\n1590.TW', '11\\n嘉澤\\n3533.TW', '12\\n和泰車\\n2207.TW', '13\\n儒鴻\\n1476.TW', '14\\n台積電\\n2330.TW', '15\\n創意\\n3443.TW', '16\\n晶心科\\n6533.TW', '17\\n威鋒電子\\n6756.TW', '18\\n南電\\n8046.TW', '19\\n瑞昱\\n2379.TW', '20\\n愛普*\\n6531.TW', '21\\n聯詠\\n3034.TW', '22\\n晶碩\\n6491.TW', '23\\n玉晶光\\n3406.TW', '24\\n川湖\\n2059.TW', '25\\n國巨\\n2327.TW', '26\\n健策\\n3653.TW', '27\\n穎崴\\n6515.TW', '28\\n研華\\n2395.TW', '29\\n億豐\\n8464.TW', '30\\n鮮活果汁-KY\\n1256.TW', '31\\n華碩\\n2357.TW', '32\\n立積\\n4968.TW', '33\\n巨大\\n9921.TW', '34\\n同欣電\\n6271.TW', '35\\n美利達\\n9914.TW', '36\\n矽創\\n8016.TW', '37\\n上銀\\n2049.TW', '38\\n統一超\\n2912.TW', '39\\n智邦\\n2345.TW', '40\\n貿聯-KY\\n3665.TW', '41\\n台達電\\n2308.TW', '42\\n華擎\\n3515.TW', '43\\n麗豐-KY\\n4137.TW', '44\\n致新\\n8081.TW', '45\\n天鈺\\n4961.TW', '46\\n信邦\\n3023.TW', '47\\n裕日車\\n2227.TW', '48\\n耀登\\n3138.TW', '49\\n中租-KY\\n5871.TW', '50\\n景碩\\n3189.TW', '51\\n可寧衛\\n8422.TW', '52\\n聚陽\\n1477.TW', '53\\n台光電\\n2383.TW', '54\\n牧德\\n3563.TW', '55\\n全訊\\n5222.TW', '56\\n京鼎\\n3413.TW', '57\\n豐泰\\n9910.TW', '58\\n惠特\\n6706.TW', '59\\n汎德永業\\n2247.TW', '60\\n樺漢\\n6414.TW', '61\\n智原\\n3035.TW', '62\\n日友\\n8341.TW', '63\\n欣興\\n3037.TW', '64\\n復盛應用\\n6670.TW', '65\\n漢唐\\n2404.TW', '66\\n致茂\\n2360.TW', '67\\n台勝科\\n3532.TW', '68\\n智伸科\\n4551.TW', '69\\n一零四\\n3130.TW', '70\\n申豐\\n6582.TW', '71\\n裕融\\n9941.TW', '72\\n順德\\n2351.TW', '73\\n敦泰\\n3545.TW', '74\\n華新科\\n2492.TW', '75\\n尼得科超眾\\n6230.TW', '76\\n為升\\n2231.TW', '77\\n興勤\\n2428.TW', '78\\n通嘉\\n3588.TW', '79\\n大統益\\n1232.TW', '80\\n義隆\\n2458.TW', '81\\n晶豪科\\n3006.TW', '82\\n聯德控股-KY\\n4912.TW', '83\\n葡萄王\\n1707.TW', '84\\n微星\\n2377.TW', '85\\n可成\\n2474.TW', '86\\n萬海\\n2615.TW', '87\\n晶華\\n2707.TW', '88\\n康普\\n4739.TW', '89\\n帆宣\\n6196.TW', '90\\n豐祥-KY\\n5288.TW', '91\\n崇越\\n5434.TW', '92\\n晶相光\\n3530.TW', '93\\n伸興\\n1558.TW', '94\\n揚明光\\n3504.TW', '95\\n柏文\\n8462.TW', '96\\n技嘉\\n2376.TW', '97\\n新唐\\n4919.TW', '98\\n冠星-KY\\n4439.TW', '99\\n元大台灣50\\n0050.TW', '100\\n王品\\n2727.TW']\n"
     ]
    }
   ],
   "source": [
    "ticker_name_xpath=\"//div[@class='D(f) Start(0) H(100%) Ai(c) Bgc(#fff) table-row:h_Bgc(#e7f3ff) Pstart(12px) Pend(12px) Bdrststart(4px) Bdrsbstart(4px) Pos(r) Bxz(bb) Z(2)']\"\n",
    "elem=driver.find_elements_by_xpath(ticker_name_xpath)\n",
    "ticker_name=[e.text for e in elem]\n",
    "print(ticker_name)"
   ]
  },
  {
   "cell_type": "code",
   "execution_count": 59,
   "metadata": {},
   "outputs": [
    {
     "name": "stdout",
     "output_type": "stream",
     "text": [
      "[]\n"
     ]
    },
    {
     "name": "stderr",
     "output_type": "stream",
     "text": [
      "C:\\Users\\simpl\\AppData\\Local\\Temp/ipykernel_3548/2518102793.py:2: DeprecationWarning: find_elements_by_* commands are deprecated. Please use find_elements() instead\n",
      "  elem=driver.find_elements_by_xpath(stock_price_xpath)\n"
     ]
    }
   ],
   "source": [
    "stock_price_xpath=\"//span[@class='Jc(fe) Fw(600) D(f) Ai(c) ']\"\n",
    "elem=driver.find_elements_by_xpath(stock_price_xpath)\n",
    "stock_price=[float(e.text) for e in elem]\n",
    "print(stock_price)"
   ]
  },
  {
   "cell_type": "code",
   "execution_count": 55,
   "metadata": {},
   "outputs": [
    {
     "name": "stderr",
     "output_type": "stream",
     "text": [
      "C:\\Users\\simpl\\AppData\\Local\\Temp/ipykernel_3548/1688645231.py:4: DeprecationWarning: find_elements_by_* commands are deprecated. Please use find_elements() instead\n",
      "  elem=driver.find_elements_by_xpath(price_xpath)\n"
     ]
    },
    {
     "name": "stdout",
     "output_type": "stream",
     "text": [
      "['1\\n矽力-KY\\n6415.TW\\n5,350.00\\n25.00\\n0.47%\\n5,490.00\\n5,265.00\\n225.00\\n318\\n16.9684', '2\\n大立光\\n3008.TW\\n2,095.00\\n5.00\\n0.24%\\n2,110.00\\n2,070.00\\n40.00\\n471\\n9.8445', '3\\n祥碩\\n5269.TW\\n1,810.00\\n30.00\\n1.69%\\n1,810.00\\n1,740.00\\n70.00\\n842\\n15.0092', '4\\n旭隼\\n6409.TW\\n1,790.00\\n40.00\\n2.19%\\n1,835.00\\n1,775.00\\n60.00\\n329\\n5.9137', '5\\n富邦媒\\n8454.TW\\n1,750.00\\n90.00\\n5.42%\\n1,750.00\\n1,670.00\\n80.00\\n653\\n11.1941', '6\\nAES-KY\\n6781.TW\\n1,500.00\\n35.00\\n2.39%\\n1,540.00\\n1,465.00\\n75.00\\n545\\n8.2081', '7\\n世芯-KY\\n3661.TW\\n1,190.00\\n30.00\\n2.46%\\n1,230.00\\n1,170.00\\n60.00\\n1,570\\n18.7285', '8\\n聯發科\\n2454.TW\\n1,030.00\\n5.00\\n0.48%\\n1,075.00\\n1,020.00\\n55.00\\n6,780\\n70.8575', '9\\n緯穎\\n6669.TW\\n1,010.00\\n33.00\\n3.38%\\n1,010.00\\n976.00\\n34.00\\n956\\n9.5454', '10\\n亞德客-KY\\n1590.TW\\n833.00\\n18.00\\n2.21%\\n835.00\\n806.00\\n29.00\\n861\\n7.1265', '11\\n嘉澤\\n3533.TW\\n656.00\\n11.00\\n1.65%\\n671.00\\n650.00\\n21.00\\n701\\n4.6078', '12\\n和泰車\\n2207.TW\\n643.00\\n7.00\\n1.08%\\n652.00\\n640.00\\n12.00\\n161\\n1.0394', '13\\n儒鴻\\n1476.TW\\n642.00\\n11.00\\n1.68%\\n662.00\\n639.00\\n23.00\\n776\\n5.0000', '14\\n台積電\\n2330.TW\\n610.00\\n0.00\\n0.00%\\n615.00\\n608.00\\n7.00\\n19,675\\n120.1654', '15\\n創意\\n3443.TW\\n604.00\\n18.00\\n3.07%\\n604.00\\n583.00\\n21.00\\n2,861\\n17.0163', '16\\n晶心科\\n6533.TW\\n583.00\\n2.00\\n0.34%\\n624.00\\n570.00\\n54.00\\n3,544\\n21.0364', '17\\n威鋒電子\\n6756.TW\\n565.00\\n51.00\\n9.92%\\n565.00\\n523.00\\n42.00\\n9,839\\n53.8302', '18\\n南電\\n8046.TW\\n560.00\\n1.00\\n0.18%\\n570.00\\n555.00\\n15.00\\n4,117\\n23.0462', '19\\n瑞昱\\n2379.TW\\n550.00\\n1.00\\n0.18%\\n560.00\\n545.00\\n15.00\\n2,195\\n12.1059', '20\\n愛普*\\n6531.TW\\n532.00\\n7.00\\n1.30%\\n548.00\\n526.00\\n22.00\\n4,511\\n24.1473', '21\\n聯詠\\n3034.TW\\n490.50\\n20.50\\n4.36%\\n498.50\\n479.00\\n19.50\\n16,394\\n80.4141', '22\\n晶碩\\n6491.TW\\n471.00\\n1.50\\n0.32%\\n480.00\\n469.00\\n11.00\\n391\\n1.8498', '23\\n玉晶光\\n3406.TW\\n464.00\\n2.00\\n0.43%\\n471.50\\n456.50\\n15.00\\n2,642\\n12.2047', '24\\n川湖\\n2059.TW\\n461.50\\n5.50\\n1.18%\\n470.00\\n458.00\\n12.00\\n192\\n0.8868', '25\\n國巨\\n2327.TW\\n448.00\\n11.50\\n2.63%\\n450.50\\n435.00\\n15.50\\n5,798\\n25.7807', '26\\n健策\\n3653.TW\\n393.50\\n6.00\\n1.50%\\n404.50\\n391.00\\n13.50\\n1,124\\n4.4396', '27\\n穎崴\\n6515.TW\\n388.50\\n6.00\\n1.57%\\n395.50\\n380.00\\n15.50\\n495\\n1.9154', '28\\n研華\\n2395.TW\\n386.50\\n5.50\\n1.40%\\n392.00\\n383.00\\n9.00\\n818\\n3.1678', '29\\n億豐\\n8464.TW\\n382.00\\n1.00\\n0.26%\\n382.00\\n373.00\\n9.00\\n743\\n2.8059', '30\\n鮮活果汁-KY\\n1256.TW\\n365.00\\n3.00\\n0.83%\\n367.00\\n364.00\\n3.00\\n27\\n0.0986', '31\\n華碩\\n2357.TW\\n357.50\\n3.00\\n0.85%\\n358.00\\n353.00\\n5.00\\n2,260\\n8.0526', '32\\n立積\\n4968.TW\\n335.00\\n0.50\\n0.15%\\n345.50\\n320.50\\n25.00\\n8,671\\n28.9279', '33\\n巨大\\n9921.TW\\n311.50\\n4.50\\n1.42%\\n316.00\\n310.50\\n5.50\\n730\\n2.2763', '34\\n同欣電\\n6271.TW\\n304.50\\n4.00\\n1.33%\\n306.00\\n295.50\\n10.50\\n8,280\\n24.9410', '35\\n美利達\\n9914.TW\\n304.50\\n2.50\\n0.81%\\n306.00\\n298.00\\n8.00\\n579\\n1.7509', '36\\n矽創\\n8016.TW\\n294.50\\n15.00\\n5.37%\\n299.00\\n281.00\\n18.00\\n9,292\\n27.1512', '37\\n統一超\\n2912.TW\\n292.00\\n1.50\\n0.52%\\n292.00\\n288.00\\n4.00\\n1,849\\n5.3742', '38\\n上銀\\n2049.TW\\n292.00\\n6.00\\n2.10%\\n293.00\\n285.00\\n8.00\\n3,137\\n9.0506', '39\\n智邦\\n2345.TW\\n291.50\\n0.50\\n0.17%\\n300.00\\n290.00\\n10.00\\n1,979\\n5.8089', '40\\n貿聯-KY\\n3665.TW\\n262.00\\n2.00\\n0.77%\\n268.50\\n262.00\\n6.50\\n1,628\\n4.3113', '41\\n台達電\\n2308.TW\\n261.50\\n5.50\\n2.15%\\n262.50\\n254.50\\n8.00\\n6,806\\n17.7114', '42\\n華擎\\n3515.TW\\n258.50\\n23.50\\n10.00%\\n258.50\\n227.00\\n31.50\\n10,503\\n25.9495', '43\\n麗豐-KY\\n4137.TW\\n257.50\\n3.00\\n1.18%\\n260.50\\n252.50\\n8.00\\n336\\n0.8653', '44\\n致新\\n8081.TW\\n255.50\\n6.00\\n2.40%\\n257.50\\n248.00\\n9.50\\n1,475\\n3.7528', '45\\n天鈺\\n4961.TW\\n255.00\\n23.00\\n9.91%\\n255.00\\n236.50\\n18.50\\n31,968\\n79.6367', '46\\n裕日車\\n2227.TW\\n253.50\\n1.00\\n0.40%\\n253.50\\n251.50\\n2.00\\n90\\n0.2269', '47\\n信邦\\n3023.TW\\n253.50\\n1.00\\n0.39%\\n257.00\\n252.50\\n4.50\\n260\\n0.6600', '48\\n耀登\\n3138.TW\\n253.00\\n5.50\\n2.13%\\n261.50\\n247.00\\n14.50\\n3,044\\n7.6911', '49\\n中租-KY\\n5871.TW\\n251.00\\n1.00\\n0.40%\\n252.00\\n249.00\\n3.00\\n2,069\\n5.1838', '50\\n景碩\\n3189.TW\\n243.00\\n7.00\\n2.97%\\n243.00\\n230.50\\n12.50\\n12,508\\n29.6175', '51\\n可寧衛\\n8422.TW\\n238.00\\n4.50\\n1.86%\\n240.50\\n236.00\\n4.50\\n1,291\\n3.0781', '52\\n聚陽\\n1477.TW\\n237.00\\n1.50\\n0.63%\\n240.00\\n234.00\\n6.00\\n1,257\\n2.9716', '53\\n台光電\\n2383.TW\\n233.00\\n0.00\\n0.00%\\n240.00\\n229.00\\n11.00\\n3,262\\n7.6032', '54\\n牧德\\n3563.TW\\n232.50\\n0.50\\n0.22%\\n234.50\\n231.00\\n3.50\\n184\\n0.4282', '55\\n全訊\\n5222.TW\\n229.50\\n15.50\\n7.24%\\n233.50\\n216.00\\n17.50\\n4,193\\n9.3901', '56\\n京鼎\\n3413.TW\\n224.00\\n2.00\\n0.88%\\n226.50\\n222.00\\n4.50\\n975\\n2.1902', '57\\n豐泰\\n9910.TW\\n220.00\\n3.00\\n1.35%\\n223.50\\n216.00\\n7.50\\n779\\n1.7080', '58\\n惠特\\n6706.TW\\n217.50\\n3.00\\n1.40%\\n218.00\\n213.00\\n5.00\\n1,304\\n2.8177', '59\\n汎德永業\\n2247.TW\\n216.50\\n0.00\\n0.00%\\n217.00\\n215.50\\n1.50\\n45\\n0.0973', '60\\n樺漢\\n6414.TW\\n213.50\\n12.00\\n5.32%\\n224.50\\n212.00\\n12.50\\n2,248\\n4.8747', '61\\n智原\\n3035.TW\\n206.00\\n12.50\\n6.46%\\n206.50\\n197.00\\n9.50\\n37,726\\n76.3001', '62\\n日友\\n8341.TW\\n203.50\\n0.00\\n0.00%\\n203.50\\n202.00\\n1.50\\n56\\n0.1136', '63\\n欣興\\n3037.TW\\n198.00\\n3.00\\n1.54%\\n198.00\\n193.00\\n5.00\\n18,004\\n35.2554', '64\\n復盛應用\\n6670.TW\\n194.00\\n0.50\\n0.26%\\n194.50\\n193.00\\n1.50\\n53\\n0.1025', '65\\n漢唐\\n2404.TW\\n192.00\\n1.50\\n0.79%\\n194.50\\n190.50\\n4.00\\n708\\n1.3618', '66\\n致茂\\n2360.TW\\n189.50\\n0.00\\n0.00%\\n190.50\\n187.50\\n3.00\\n338\\n0.6376', '67\\n台勝科\\n3532.TW\\n188.50\\n2.50\\n1.34%\\n188.50\\n181.00\\n7.50\\n1,866\\n3.4340', '68\\n智伸科\\n4551.TW\\n185.00\\n9.00\\n5.11%\\n185.50\\n177.00\\n8.50\\n1,769\\n3.2339', '69\\n一零四\\n3130.TW\\n176.50\\n1.00\\n0.56%\\n177.00\\n176.50\\n0.50\\n3\\n0.0053', '70\\n申豐\\n6582.TW\\n175.00\\n0.50\\n0.29%\\n175.50\\n172.50\\n3.00\\n177\\n0.3082', '71\\n裕融\\n9941.TW\\n174.00\\n1.00\\n0.58%\\n174.50\\n172.00\\n2.50\\n281\\n0.4884', '72\\n順德\\n2351.TW\\n173.50\\n4.50\\n2.53%\\n181.50\\n173.50\\n8.00\\n3,695\\n6.5078', '73\\n敦泰\\n3545.TW\\n171.50\\n15.50\\n9.94%\\n171.50\\n158.00\\n13.50\\n46,151\\n77.1926', '74\\n華新科\\n2492.TW\\n171.00\\n10.50\\n6.54%\\n172.00\\n160.50\\n11.50\\n11,545\\n19.3674', '75\\n尼得科超眾\\n6230.TW\\n171.00\\n1.00\\n0.58%\\n172.00\\n168.50\\n3.50\\n12\\n0.0205', '76\\n為升\\n2231.TW\\n169.50\\n0.50\\n0.29%\\n171.50\\n169.00\\n2.50\\n368\\n0.6264', '77\\n興勤\\n2428.TW\\n169.00\\n1.50\\n0.90%\\n169.50\\n166.00\\n3.50\\n230\\n0.3878', '78\\n通嘉\\n3588.TW\\n169.00\\n2.00\\n1.20%\\n174.50\\n165.00\\n9.50\\n10,345\\n17.5374', '79\\n義隆\\n2458.TW\\n168.50\\n0.50\\n0.30%\\n171.00\\n165.50\\n5.50\\n3,160\\n5.3246', '80\\n大統益\\n1232.TW\\n168.50\\n1.00\\n0.60%\\n168.50\\n164.00\\n4.50\\n221\\n0.3689', '81\\n晶豪科\\n3006.TW\\n165.00\\n1.50\\n0.92%\\n168.00\\n162.00\\n6.00\\n21,962\\n36.2724', '82\\n聯德控股-KY\\n4912.TW\\n165.00\\n1.00\\n0.60%\\n167.50\\n164.50\\n3.00\\n172\\n0.2847', '83\\n葡萄王\\n1707.TW\\n163.00\\n0.50\\n0.31%\\n163.00\\n161.00\\n2.00\\n135\\n0.2189', '84\\n微星\\n2377.TW\\n162.50\\n0.50\\n0.31%\\n163.00\\n159.00\\n4.00\\n4,140\\n6.6626', '85\\n可成\\n2474.TW\\n162.00\\n2.00\\n1.22%\\n165.00\\n162.00\\n3.00\\n2,983\\n4.8667', '86\\n萬海\\n2615.TW\\n158.50\\n2.50\\n1.55%\\n161.50\\n155.00\\n6.50\\n22,519\\n35.6053', '87\\n晶華\\n2707.TW\\n156.00\\n0.00\\n0.00%\\n158.00\\n155.50\\n2.50\\n317\\n0.4962', '88\\n康普\\n4739.TW\\n155.00\\n0.50\\n0.32%\\n163.00\\n154.00\\n9.00\\n14,959\\n23.6792', '89\\n帆宣\\n6196.TW\\n154.00\\n0.50\\n0.33%\\n165.00\\n154.00\\n11.00\\n15,816\\n25.1293', '90\\n豐祥-KY\\n5288.TW\\n151.00\\n0.50\\n0.33%\\n151.50\\n149.00\\n2.50\\n44\\n0.0660', '91\\n崇越\\n5434.TW\\n150.50\\n3.50\\n2.38%\\n151.00\\n147.00\\n4.00\\n887\\n1.3221', '92\\n晶相光\\n3530.TW\\n150.00\\n5.50\\n3.81%\\n153.50\\n144.50\\n9.00\\n4,757\\n7.1330', '93\\n伸興\\n1558.TW\\n147.00\\n0.50\\n0.34%\\n147.50\\n145.00\\n2.50\\n222\\n0.3234', '94\\n揚明光\\n3504.TW\\n146.00\\n13.00\\n9.77%\\n146.00\\n135.00\\n11.00\\n15,932\\n22.8409', '95\\n柏文\\n8462.TW\\n144.00\\n1.00\\n0.69%\\n146.00\\n142.00\\n4.00\\n120\\n0.1727', '96\\n技嘉\\n2376.TW\\n143.00\\n2.50\\n1.78%\\n143.00\\n136.50\\n6.50\\n23,273\\n32.4936', '97\\n新唐\\n4919.TW\\n143.00\\n7.00\\n5.15%\\n143.00\\n136.00\\n7.00\\n24,575\\n34.5973', '98\\n冠星-KY\\n4439.TW\\n142.00\\n1.00\\n0.71%\\n142.00\\n142.00\\n0.00\\n2\\n0.0028', '99\\n元大台灣50\\n0050.TW\\n141.65\\n0.45\\n0.32%\\n141.70\\n141.15\\n0.55\\n20,287\\n28.7072', '100\\n王品\\n2727.TW\\n141.50\\n1.50\\n1.05%\\n144.00\\n140.50\\n3.50\\n498\\n0.7059']\n"
     ]
    }
   ],
   "source": [
    "#//div[@class='Bgc(#fff) table-row D(f) Ai(c) Bgc(#e7f3ff):h Fz(16px) Px(12px) Bxz(bb) Bdbs(s) Bdbw(1px) Bdbc($bd-primary-divider) H(52px) H(a)--mobile']\n",
    "\n",
    "price_xpath=\"//div[@class='Bgc(#fff) table-row D(f) Ai(c) Bgc(#e7f3ff):h Fz(16px) Px(12px) Bxz(bb) Bdbs(s) Bdbw(1px) Bdbc($bd-primary-divider) H(52px) H(a)--mobile']\"\n",
    "elem=driver.find_elements_by_xpath(price_xpath)\n",
    "stock_price=[e.text for e in elem]\n",
    "print(stock_price)"
   ]
  },
  {
   "cell_type": "code",
   "execution_count": null,
   "metadata": {},
   "outputs": [],
   "source": []
  }
 ],
 "metadata": {
  "kernelspec": {
   "display_name": "selenium",
   "language": "python",
   "name": "selenium"
  },
  "language_info": {
   "codemirror_mode": {
    "name": "ipython",
    "version": 3
   },
   "file_extension": ".py",
   "mimetype": "text/x-python",
   "name": "python",
   "nbconvert_exporter": "python",
   "pygments_lexer": "ipython3",
   "version": "3.10.0"
  }
 },
 "nbformat": 4,
 "nbformat_minor": 4
}
